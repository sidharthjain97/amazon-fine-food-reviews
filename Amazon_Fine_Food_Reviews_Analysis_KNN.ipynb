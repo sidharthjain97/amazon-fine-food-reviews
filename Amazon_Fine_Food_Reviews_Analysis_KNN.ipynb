{
  "nbformat": 4,
  "nbformat_minor": 0,
  "metadata": {
    "colab": {
      "name": "Copy of 03 Amazon Fine Food Reviews Analysis_KNN.ipynb",
      "provenance": [],
      "toc_visible": true
    },
    "language_info": {
      "codemirror_mode": {
        "name": "ipython",
        "version": 3
      },
      "file_extension": ".py",
      "mimetype": "text/x-python",
      "name": "python",
      "nbconvert_exporter": "python",
      "pygments_lexer": "ipython3",
      "version": "3.6.6"
    },
    "kernelspec": {
      "display_name": "Python 3",
      "language": "python",
      "name": "python3"
    }
  },
  "cells": [
    {
      "cell_type": "code",
      "source": [
        "from google.colab import drive\n",
        "drive.mount('/content/drive')"
      ],
      "metadata": {
        "colab": {
          "base_uri": "https://localhost:8080/"
        },
        "id": "mkdWwwGGATHq",
        "outputId": "e74a993b-192f-4cb4-bc8c-e6c5ea6ccc85"
      },
      "execution_count": 12,
      "outputs": [
        {
          "output_type": "stream",
          "name": "stdout",
          "text": [
            "Mounted at /content/drive\n"
          ]
        }
      ]
    },
    {
      "cell_type": "markdown",
      "metadata": {
        "id": "4UPJU7FIDYHb"
      },
      "source": [
        "# Amazon Fine Food Reviews Analysis\n",
        "\n",
        "\n",
        "Data Source: https://www.kaggle.com/snap/amazon-fine-food-reviews <br>\n",
        "\n",
        "EDA: https://nycdatascience.com/blog/student-works/amazon-fine-foods-visualization/\n",
        "\n",
        "\n",
        "The Amazon Fine Food Reviews dataset consists of reviews of fine foods from Amazon.<br>\n",
        "\n",
        "Number of reviews: 568,454<br>\n",
        "Number of users: 256,059<br>\n",
        "Number of products: 74,258<br>\n",
        "Timespan: Oct 1999 - Oct 2012<br>\n",
        "Number of Attributes/Columns in data: 10 \n",
        "\n",
        "Attribute Information:\n",
        "\n",
        "1. Id\n",
        "2. ProductId - unique identifier for the product\n",
        "3. UserId - unqiue identifier for the user\n",
        "4. ProfileName\n",
        "5. HelpfulnessNumerator - number of users who found the review helpful\n",
        "6. HelpfulnessDenominator - number of users who indicated whether they found the review helpful or not\n",
        "7. Score - rating between 1 and 5\n",
        "8. Time - timestamp for the review\n",
        "9. Summary - brief summary of the review\n",
        "10. Text - text of the review\n",
        "\n",
        "\n",
        "#### Objective:\n",
        "Given a review, determine whether the review is positive (rating of 4 or 5) or negative (rating of 1 or 2).\n",
        "\n",
        "<br>\n",
        "[Q] How to determine if a review is positive or negative?<br>\n",
        "<br> \n",
        "[Ans] We could use Score/Rating. A rating of 4 or 5 can be cosnidered as a positive review. A rating of 1 or 2 can be considered as negative one. A review of rating 3 is considered nuetral and such reviews are ignored from our analysis. This is an approximate and proxy way of determining the polarity (positivity/negativity) of a review.\n",
        "\n",
        "\n"
      ]
    },
    {
      "cell_type": "code",
      "source": [
        ""
      ],
      "metadata": {
        "id": "6jilwMtrItFL"
      },
      "execution_count": null,
      "outputs": []
    },
    {
      "cell_type": "code",
      "metadata": {
        "id": "imVZPTRWYo-Y"
      },
      "source": [
        "import pandas as pd\n",
        "import numpy as np\n",
        "import matplotlib.pyplot as plt"
      ],
      "execution_count": 1,
      "outputs": []
    },
    {
      "cell_type": "markdown",
      "metadata": {
        "id": "9nCogIHL_cYU"
      },
      "source": [
        "# [1]. Load preprocessed data"
      ]
    },
    {
      "cell_type": "code",
      "metadata": {
        "id": "MTNFZPIPB0UY"
      },
      "source": [
        "final1 = pd.read_csv(r'/content/drive/MyDrive/Colab Notebooks/Amazon_fine_food_reviews/preprocessed_review_file.csv')"
      ],
      "execution_count": 13,
      "outputs": []
    },
    {
      "cell_type": "code",
      "metadata": {
        "colab": {
          "base_uri": "https://localhost:8080/",
          "height": 243
        },
        "id": "H6DV_jpyY9YB",
        "outputId": "0b9c1a3b-84f5-45fa-dd7e-e3aee2290c9f"
      },
      "source": [
        "final1.head(2)"
      ],
      "execution_count": 14,
      "outputs": [
        {
          "output_type": "execute_result",
          "data": {
            "text/html": [
              "\n",
              "  <div id=\"df-d3538253-c078-42c8-86ee-17a39a52d7fe\">\n",
              "    <div class=\"colab-df-container\">\n",
              "      <div>\n",
              "<style scoped>\n",
              "    .dataframe tbody tr th:only-of-type {\n",
              "        vertical-align: middle;\n",
              "    }\n",
              "\n",
              "    .dataframe tbody tr th {\n",
              "        vertical-align: top;\n",
              "    }\n",
              "\n",
              "    .dataframe thead th {\n",
              "        text-align: right;\n",
              "    }\n",
              "</style>\n",
              "<table border=\"1\" class=\"dataframe\">\n",
              "  <thead>\n",
              "    <tr style=\"text-align: right;\">\n",
              "      <th></th>\n",
              "      <th>Unnamed: 0</th>\n",
              "      <th>Id</th>\n",
              "      <th>ProductId</th>\n",
              "      <th>UserId</th>\n",
              "      <th>ProfileName</th>\n",
              "      <th>HelpfulnessNumerator</th>\n",
              "      <th>HelpfulnessDenominator</th>\n",
              "      <th>Score</th>\n",
              "      <th>Time</th>\n",
              "      <th>Summary</th>\n",
              "      <th>Text</th>\n",
              "      <th>preprocessed_reviews</th>\n",
              "    </tr>\n",
              "  </thead>\n",
              "  <tbody>\n",
              "    <tr>\n",
              "      <th>0</th>\n",
              "      <td>150523</td>\n",
              "      <td>150524</td>\n",
              "      <td>0006641040</td>\n",
              "      <td>ACITT7DI6IDDL</td>\n",
              "      <td>shari zychinski</td>\n",
              "      <td>0</td>\n",
              "      <td>0</td>\n",
              "      <td>1</td>\n",
              "      <td>939340800</td>\n",
              "      <td>EVERY book is educational</td>\n",
              "      <td>this witty little book makes my son laugh at l...</td>\n",
              "      <td>witty little book makes son laugh loud recite ...</td>\n",
              "    </tr>\n",
              "    <tr>\n",
              "      <th>1</th>\n",
              "      <td>150505</td>\n",
              "      <td>150506</td>\n",
              "      <td>0006641040</td>\n",
              "      <td>A2IW4PEEKO2R0U</td>\n",
              "      <td>Tracy</td>\n",
              "      <td>1</td>\n",
              "      <td>1</td>\n",
              "      <td>1</td>\n",
              "      <td>1194739200</td>\n",
              "      <td>Love the book, miss the hard cover version</td>\n",
              "      <td>I grew up reading these Sendak books, and watc...</td>\n",
              "      <td>grew reading sendak books watching really rosi...</td>\n",
              "    </tr>\n",
              "  </tbody>\n",
              "</table>\n",
              "</div>\n",
              "      <button class=\"colab-df-convert\" onclick=\"convertToInteractive('df-d3538253-c078-42c8-86ee-17a39a52d7fe')\"\n",
              "              title=\"Convert this dataframe to an interactive table.\"\n",
              "              style=\"display:none;\">\n",
              "        \n",
              "  <svg xmlns=\"http://www.w3.org/2000/svg\" height=\"24px\"viewBox=\"0 0 24 24\"\n",
              "       width=\"24px\">\n",
              "    <path d=\"M0 0h24v24H0V0z\" fill=\"none\"/>\n",
              "    <path d=\"M18.56 5.44l.94 2.06.94-2.06 2.06-.94-2.06-.94-.94-2.06-.94 2.06-2.06.94zm-11 1L8.5 8.5l.94-2.06 2.06-.94-2.06-.94L8.5 2.5l-.94 2.06-2.06.94zm10 10l.94 2.06.94-2.06 2.06-.94-2.06-.94-.94-2.06-.94 2.06-2.06.94z\"/><path d=\"M17.41 7.96l-1.37-1.37c-.4-.4-.92-.59-1.43-.59-.52 0-1.04.2-1.43.59L10.3 9.45l-7.72 7.72c-.78.78-.78 2.05 0 2.83L4 21.41c.39.39.9.59 1.41.59.51 0 1.02-.2 1.41-.59l7.78-7.78 2.81-2.81c.8-.78.8-2.07 0-2.86zM5.41 20L4 18.59l7.72-7.72 1.47 1.35L5.41 20z\"/>\n",
              "  </svg>\n",
              "      </button>\n",
              "      \n",
              "  <style>\n",
              "    .colab-df-container {\n",
              "      display:flex;\n",
              "      flex-wrap:wrap;\n",
              "      gap: 12px;\n",
              "    }\n",
              "\n",
              "    .colab-df-convert {\n",
              "      background-color: #E8F0FE;\n",
              "      border: none;\n",
              "      border-radius: 50%;\n",
              "      cursor: pointer;\n",
              "      display: none;\n",
              "      fill: #1967D2;\n",
              "      height: 32px;\n",
              "      padding: 0 0 0 0;\n",
              "      width: 32px;\n",
              "    }\n",
              "\n",
              "    .colab-df-convert:hover {\n",
              "      background-color: #E2EBFA;\n",
              "      box-shadow: 0px 1px 2px rgba(60, 64, 67, 0.3), 0px 1px 3px 1px rgba(60, 64, 67, 0.15);\n",
              "      fill: #174EA6;\n",
              "    }\n",
              "\n",
              "    [theme=dark] .colab-df-convert {\n",
              "      background-color: #3B4455;\n",
              "      fill: #D2E3FC;\n",
              "    }\n",
              "\n",
              "    [theme=dark] .colab-df-convert:hover {\n",
              "      background-color: #434B5C;\n",
              "      box-shadow: 0px 1px 3px 1px rgba(0, 0, 0, 0.15);\n",
              "      filter: drop-shadow(0px 1px 2px rgba(0, 0, 0, 0.3));\n",
              "      fill: #FFFFFF;\n",
              "    }\n",
              "  </style>\n",
              "\n",
              "      <script>\n",
              "        const buttonEl =\n",
              "          document.querySelector('#df-d3538253-c078-42c8-86ee-17a39a52d7fe button.colab-df-convert');\n",
              "        buttonEl.style.display =\n",
              "          google.colab.kernel.accessAllowed ? 'block' : 'none';\n",
              "\n",
              "        async function convertToInteractive(key) {\n",
              "          const element = document.querySelector('#df-d3538253-c078-42c8-86ee-17a39a52d7fe');\n",
              "          const dataTable =\n",
              "            await google.colab.kernel.invokeFunction('convertToInteractive',\n",
              "                                                     [key], {});\n",
              "          if (!dataTable) return;\n",
              "\n",
              "          const docLinkHtml = 'Like what you see? Visit the ' +\n",
              "            '<a target=\"_blank\" href=https://colab.research.google.com/notebooks/data_table.ipynb>data table notebook</a>'\n",
              "            + ' to learn more about interactive tables.';\n",
              "          element.innerHTML = '';\n",
              "          dataTable['output_type'] = 'display_data';\n",
              "          await google.colab.output.renderOutput(dataTable, element);\n",
              "          const docLink = document.createElement('div');\n",
              "          docLink.innerHTML = docLinkHtml;\n",
              "          element.appendChild(docLink);\n",
              "        }\n",
              "      </script>\n",
              "    </div>\n",
              "  </div>\n",
              "  "
            ],
            "text/plain": [
              "   Unnamed: 0  ...                               preprocessed_reviews\n",
              "0      150523  ...  witty little book makes son laugh loud recite ...\n",
              "1      150505  ...  grew reading sendak books watching really rosi...\n",
              "\n",
              "[2 rows x 12 columns]"
            ]
          },
          "metadata": {},
          "execution_count": 14
        }
      ]
    },
    {
      "cell_type": "code",
      "metadata": {
        "colab": {
          "base_uri": "https://localhost:8080/"
        },
        "id": "XnjeTk2nYmHt",
        "outputId": "fc5ac8d4-ef15-4167-da4f-568a0c4e9d31"
      },
      "source": [
        "final1.shape"
      ],
      "execution_count": 15,
      "outputs": [
        {
          "output_type": "execute_result",
          "data": {
            "text/plain": [
              "(11000, 12)"
            ]
          },
          "metadata": {},
          "execution_count": 15
        }
      ]
    },
    {
      "cell_type": "code",
      "metadata": {
        "id": "Zb_dHkvDX5Td"
      },
      "source": [
        "final1.dropna(axis=0, inplace=True)"
      ],
      "execution_count": 16,
      "outputs": []
    },
    {
      "cell_type": "code",
      "metadata": {
        "colab": {
          "base_uri": "https://localhost:8080/"
        },
        "id": "6fSIa3RdYj02",
        "outputId": "e4260e99-d002-434e-f073-7885c96be41e"
      },
      "source": [
        "final1.shape"
      ],
      "execution_count": 17,
      "outputs": [
        {
          "output_type": "execute_result",
          "data": {
            "text/plain": [
              "(10975, 12)"
            ]
          },
          "metadata": {},
          "execution_count": 17
        }
      ]
    },
    {
      "cell_type": "code",
      "metadata": {
        "id": "b2wAiQrbY1sh"
      },
      "source": [
        "final2 = final1.head(5000)"
      ],
      "execution_count": 18,
      "outputs": []
    },
    {
      "cell_type": "code",
      "metadata": {
        "id": "FmfY2CHdXL6q"
      },
      "source": [
        "preprocessed_reviews = final2['preprocessed_reviews']"
      ],
      "execution_count": 19,
      "outputs": []
    },
    {
      "cell_type": "code",
      "source": [
        "type(preprocessed_reviews)"
      ],
      "metadata": {
        "colab": {
          "base_uri": "https://localhost:8080/"
        },
        "id": "po8IZFMpfrbv",
        "outputId": "a7477cad-25c0-4c8a-b6ab-6e14fe6f3e65"
      },
      "execution_count": 20,
      "outputs": [
        {
          "output_type": "execute_result",
          "data": {
            "text/plain": [
              "pandas.core.series.Series"
            ]
          },
          "metadata": {},
          "execution_count": 20
        }
      ]
    },
    {
      "cell_type": "code",
      "metadata": {
        "colab": {
          "base_uri": "https://localhost:8080/"
        },
        "id": "qSpqyAIyXVSA",
        "outputId": "88eb6a1d-646d-4696-ec79-93d9aa34afa6"
      },
      "source": [
        "len(preprocessed_reviews)"
      ],
      "execution_count": 21,
      "outputs": [
        {
          "output_type": "execute_result",
          "data": {
            "text/plain": [
              "5000"
            ]
          },
          "metadata": {},
          "execution_count": 21
        }
      ]
    },
    {
      "cell_type": "code",
      "metadata": {
        "colab": {
          "base_uri": "https://localhost:8080/"
        },
        "id": "eCXkGgssAXkG",
        "outputId": "d1e7d3f2-f9f6-4d5d-d200-734bf3b2475a"
      },
      "source": [
        "score = final2['Score']\n",
        "print(len(score))"
      ],
      "execution_count": 22,
      "outputs": [
        {
          "output_type": "stream",
          "name": "stdout",
          "text": [
            "5000\n"
          ]
        }
      ]
    },
    {
      "cell_type": "code",
      "source": [
        "np.unique(score, return_counts=True)"
      ],
      "metadata": {
        "colab": {
          "base_uri": "https://localhost:8080/"
        },
        "id": "6BSPYlWRNgPc",
        "outputId": "b537d95f-41d8-414e-b388-c0b3a52131b8"
      },
      "execution_count": 23,
      "outputs": [
        {
          "output_type": "execute_result",
          "data": {
            "text/plain": [
              "(array([0, 1]), array([ 889, 4111]))"
            ]
          },
          "metadata": {},
          "execution_count": 23
        }
      ]
    },
    {
      "cell_type": "markdown",
      "source": [
        "# [4]. Train test split"
      ],
      "metadata": {
        "id": "cIRU32LpNHyV"
      }
    },
    {
      "cell_type": "code",
      "source": [
        "from sklearn.model_selection import StratifiedShuffleSplit"
      ],
      "metadata": {
        "id": "Vlm_ACQoNZ_h"
      },
      "execution_count": 24,
      "outputs": []
    },
    {
      "cell_type": "code",
      "source": [
        "preprocessed_reviews = preprocessed_reviews.values.reshape(-1,1)"
      ],
      "metadata": {
        "id": "gGZGNwsoS90X"
      },
      "execution_count": 25,
      "outputs": []
    },
    {
      "cell_type": "code",
      "source": [
        "preprocessed_reviews.shape"
      ],
      "metadata": {
        "colab": {
          "base_uri": "https://localhost:8080/"
        },
        "id": "KM8_R-CnTACl",
        "outputId": "c65791c9-8317-47f8-c9ef-33c9881a6f17"
      },
      "execution_count": 26,
      "outputs": [
        {
          "output_type": "execute_result",
          "data": {
            "text/plain": [
              "(5000, 1)"
            ]
          },
          "metadata": {},
          "execution_count": 26
        }
      ]
    },
    {
      "cell_type": "code",
      "source": [
        "score = score.values.reshape(-1,1)"
      ],
      "metadata": {
        "id": "t6vZfsDZWTD4"
      },
      "execution_count": 27,
      "outputs": []
    },
    {
      "cell_type": "code",
      "source": [
        "sss = StratifiedShuffleSplit(n_splits=2, test_size=0.33, random_state=3)\n",
        "\n",
        "for train_idx, test_idx in sss.split(X=preprocessed_reviews, y=score):\n",
        "    # print(\"TRAIN:\", train_idx, \"TEST:\", test_idx)\n",
        "    x_train, x_test_all = preprocessed_reviews[train_idx], preprocessed_reviews[test_idx]\n",
        "    y_train, y_test_all = score[train_idx], score[test_idx]"
      ],
      "metadata": {
        "id": "a2nsc-uMOIZu"
      },
      "execution_count": 28,
      "outputs": []
    },
    {
      "cell_type": "code",
      "source": [
        "x_test_all = x_test_all.reshape(-1, 1)\n",
        "y_test_all = y_test_all.reshape(-1, 1)"
      ],
      "metadata": {
        "id": "6i54k8nKWjcP"
      },
      "execution_count": 29,
      "outputs": []
    },
    {
      "cell_type": "code",
      "source": [
        "print(x_test_all.shape)\n",
        "print(y_test_all.shape)"
      ],
      "metadata": {
        "colab": {
          "base_uri": "https://localhost:8080/"
        },
        "id": "qO-wHaCPWws_",
        "outputId": "cb62c0a7-e306-47c1-caab-9aab03aa6d60"
      },
      "execution_count": 30,
      "outputs": [
        {
          "output_type": "stream",
          "name": "stdout",
          "text": [
            "(1650, 1)\n",
            "(1650, 1)\n"
          ]
        }
      ]
    },
    {
      "cell_type": "code",
      "source": [
        "sss = StratifiedShuffleSplit(n_splits=2, test_size=0.5, random_state=3)\n",
        "\n",
        "for train_idx, test_idx in sss.split(X=x_test_all, y=y_test_all):\n",
        "    # print(\"TRAIN:\", train_idx, \"TEST:\", test_idx)\n",
        "    x_cv, x_test = x_test_all[train_idx], x_test_all[test_idx]\n",
        "    y_cv, y_test = y_test_all[train_idx], y_test_all[test_idx]"
      ],
      "metadata": {
        "id": "PEFRlXRiNHoj"
      },
      "execution_count": 31,
      "outputs": []
    },
    {
      "cell_type": "code",
      "source": [
        "print(x_train.shape)\n",
        "print(y_train.shape)\n",
        "print(x_cv.shape)\n",
        "print(y_cv.shape)\n",
        "print(x_test.shape)\n",
        "print(y_test.shape)"
      ],
      "metadata": {
        "colab": {
          "base_uri": "https://localhost:8080/"
        },
        "id": "3QA-07fUNHgt",
        "outputId": "0c77e77c-752f-4eb0-8631-9301c0480066"
      },
      "execution_count": 32,
      "outputs": [
        {
          "output_type": "stream",
          "name": "stdout",
          "text": [
            "(3350, 1)\n",
            "(3350, 1)\n",
            "(825, 1)\n",
            "(825, 1)\n",
            "(825, 1)\n",
            "(825, 1)\n"
          ]
        }
      ]
    },
    {
      "cell_type": "code",
      "source": [
        "x_train = pd.Series((v[0] for v in x_train))\n",
        "x_cv = pd.Series((v[0] for v in x_cv))\n",
        "x_test = pd.Series((v[0] for v in x_test))"
      ],
      "metadata": {
        "id": "UjjolEgqNHCT"
      },
      "execution_count": 33,
      "outputs": []
    },
    {
      "cell_type": "markdown",
      "metadata": {
        "id": "2qZtGEkWB0XQ"
      },
      "source": [
        "# [5]. Featurization"
      ]
    },
    {
      "cell_type": "code",
      "metadata": {
        "id": "0psscI6VK-Y-"
      },
      "source": [
        "from sklearn.feature_extraction.text import CountVectorizer\n",
        "from sklearn.feature_extraction.text import TfidfTransformer\n",
        "from sklearn.feature_extraction.text import TfidfVectorizer\n",
        "\n",
        "from gensim.models import Word2Vec\n",
        "from gensim.models import KeyedVectors"
      ],
      "execution_count": 34,
      "outputs": []
    },
    {
      "cell_type": "markdown",
      "metadata": {
        "id": "LQW5ij61K-U-"
      },
      "source": [
        "### [5.1]. Bag of Words"
      ]
    },
    {
      "cell_type": "code",
      "source": [
        "x_train"
      ],
      "metadata": {
        "colab": {
          "base_uri": "https://localhost:8080/"
        },
        "id": "c1JIBA17fkal",
        "outputId": "f45202d3-2d99-4439-a23c-78703201bdd6"
      },
      "execution_count": 35,
      "outputs": [
        {
          "output_type": "execute_result",
          "data": {
            "text/plain": [
              "0       really love cinnamon able eat sugar free cinna...\n",
              "1       best friend turned cavender back use many reci...\n",
              "2       ordering lot many go directly daughter house l...\n",
              "3       started cake decorating first professional col...\n",
              "4       husband loves noodles mother used make happy f...\n",
              "                              ...                        \n",
              "3345    liguria italy best climate region olive oil ca...\n",
              "3346    recently purchased item recipe not taste horri...\n",
              "3347    no complaints plant came time perfectly packed...\n",
              "3348    dog really likes treats use training pretty sm...\n",
              "3349    wanted cat friendly garden rooftop deck cat pl...\n",
              "Length: 3350, dtype: object"
            ]
          },
          "metadata": {},
          "execution_count": 35
        }
      ]
    },
    {
      "cell_type": "code",
      "metadata": {
        "colab": {
          "base_uri": "https://localhost:8080/"
        },
        "id": "k53uPqZLK-c3",
        "outputId": "29d9bf1f-7bf8-4639-a6f0-61656158f735"
      },
      "source": [
        "count_vect = CountVectorizer(min_df=10, max_features=500)\n",
        "count_vect.fit(x_train)\n",
        "print(\"some feature names :\", count_vect.get_feature_names()[:10])\n",
        "print(\"=\"*50)\n",
        "\n",
        "bow_train_counts = count_vect.transform(x_train)\n",
        "bow_cv_counts = count_vect.transform(x_cv)\n",
        "bow_test_counts = count_vect.transform(x_test)\n",
        "\n",
        "print(type(bow_train_counts))\n",
        "print(bow_train_counts.get_shape())\n",
        "print(bow_train_counts.get_shape()[1])"
      ],
      "execution_count": 36,
      "outputs": [
        {
          "output_type": "stream",
          "name": "stdout",
          "text": [
            "some feature names : ['able', 'absolutely', 'actually', 'add', 'added', 'ago', 'almost', 'already', 'also', 'although']\n",
            "==================================================\n",
            "<class 'scipy.sparse.csr.csr_matrix'>\n",
            "(3350, 500)\n",
            "500\n"
          ]
        },
        {
          "output_type": "stream",
          "name": "stderr",
          "text": [
            "/usr/local/lib/python3.7/dist-packages/sklearn/utils/deprecation.py:87: FutureWarning: Function get_feature_names is deprecated; get_feature_names is deprecated in 1.0 and will be removed in 1.2. Please use get_feature_names_out instead.\n",
            "  warnings.warn(msg, category=FutureWarning)\n"
          ]
        }
      ]
    },
    {
      "cell_type": "code",
      "metadata": {
        "id": "qRHMoKBxK-gR"
      },
      "source": [
        ""
      ],
      "execution_count": 36,
      "outputs": []
    },
    {
      "cell_type": "markdown",
      "metadata": {
        "id": "5DZThgT6K-jt"
      },
      "source": [
        "### [5.2]. Bi-Grams and n-grams"
      ]
    },
    {
      "cell_type": "code",
      "metadata": {
        "colab": {
          "base_uri": "https://localhost:8080/"
        },
        "id": "xG4BBIGOK-nF",
        "outputId": "1fbd94a0-8db1-413b-9de1-2d3ae1696c48"
      },
      "source": [
        "count_vect = CountVectorizer(ngram_range=(1,2), min_df=10, max_features=500)\n",
        "x_train_bigrams_counts = count_vect.fit_transform(x_train)\n",
        "x_cv_bigrams_counts = count_vect.transform(x_cv)\n",
        "x_test_bigrams_counts = count_vect.transform(x_test)\n",
        "\n",
        "print(type(x_train_bigrams_counts))\n",
        "print(x_train_bigrams_counts.get_shape())\n",
        "print(x_train_bigrams_counts.get_shape()[1])"
      ],
      "execution_count": 37,
      "outputs": [
        {
          "output_type": "stream",
          "name": "stdout",
          "text": [
            "<class 'scipy.sparse.csr.csr_matrix'>\n",
            "(3350, 500)\n",
            "500\n"
          ]
        }
      ]
    },
    {
      "cell_type": "code",
      "metadata": {
        "id": "Wkxb3GJSK-qf"
      },
      "source": [
        ""
      ],
      "execution_count": 37,
      "outputs": []
    },
    {
      "cell_type": "markdown",
      "metadata": {
        "id": "seJH-sZGK-tm"
      },
      "source": [
        "### [5.3]. TF-IDF"
      ]
    },
    {
      "cell_type": "code",
      "metadata": {
        "colab": {
          "base_uri": "https://localhost:8080/"
        },
        "id": "N_ArdSweK-xF",
        "outputId": "c46d1cb3-2605-4659-c0d0-3359ce378206"
      },
      "source": [
        "tf_idf_vect = TfidfVectorizer(ngram_range=(1,2), min_df=10, max_features=500)\n",
        "tf_idf_vect.fit(x_train)\n",
        "print(\"some sample features(unique words in the corpus)\",tf_idf_vect.get_feature_names()[0:10])\n",
        "print('='*50)\n",
        "\n",
        "x_train_tf_idf = tf_idf_vect.transform(x_train)\n",
        "x_cv_tf_idf = tf_idf_vect.transform(x_cv)\n",
        "x_test_tf_idf = tf_idf_vect.transform(x_test)\n",
        "\n",
        "print(\"the type of count vectorizer \",type(x_train_tf_idf))\n",
        "print(\"the shape of out text TFIDF vectorizer \",x_train_tf_idf.get_shape())\n",
        "print(\"the number of unique words including both unigrams and bigrams \", x_train_tf_idf.get_shape()[1])"
      ],
      "execution_count": 38,
      "outputs": [
        {
          "output_type": "stream",
          "name": "stderr",
          "text": [
            "/usr/local/lib/python3.7/dist-packages/sklearn/utils/deprecation.py:87: FutureWarning: Function get_feature_names is deprecated; get_feature_names is deprecated in 1.0 and will be removed in 1.2. Please use get_feature_names_out instead.\n",
            "  warnings.warn(msg, category=FutureWarning)\n"
          ]
        },
        {
          "output_type": "stream",
          "name": "stdout",
          "text": [
            "some sample features(unique words in the corpus) ['able', 'absolutely', 'actually', 'add', 'added', 'ago', 'almost', 'already', 'also', 'although']\n",
            "==================================================\n",
            "the type of count vectorizer  <class 'scipy.sparse.csr.csr_matrix'>\n",
            "the shape of out text TFIDF vectorizer  (3350, 500)\n",
            "the number of unique words including both unigrams and bigrams  500\n"
          ]
        }
      ]
    },
    {
      "cell_type": "code",
      "metadata": {
        "id": "tjvjPM1kK-0H"
      },
      "source": [
        ""
      ],
      "execution_count": 38,
      "outputs": []
    },
    {
      "cell_type": "markdown",
      "metadata": {
        "id": "NtGrMXKbK-3i"
      },
      "source": [
        "### [5.4]. Word2Vec"
      ]
    },
    {
      "cell_type": "code",
      "metadata": {
        "id": "-Nm41ePdK-8l"
      },
      "source": [
        "# Train your own Word2Vec model using your own text corpus\n",
        "i=0\n",
        "list_of_sentence_train = [sentence.split() for sentence in x_train]\n",
        "list_of_sentence_cv = [sentence.split() for sentence in x_cv]\n",
        "list_of_sentence_test = [sentence.split() for sentence in x_test]"
      ],
      "execution_count": 39,
      "outputs": []
    },
    {
      "cell_type": "code",
      "metadata": {
        "id": "eXq9y1uEN33V"
      },
      "source": [
        ""
      ],
      "execution_count": 39,
      "outputs": []
    },
    {
      "cell_type": "code",
      "metadata": {
        "colab": {
          "base_uri": "https://localhost:8080/"
        },
        "id": "UrToN-9RN37t",
        "outputId": "b90d65bd-21c2-4673-dc28-9e1ea7fd981c"
      },
      "source": [
        "is_your_ram_gt_16g=False\n",
        "want_to_use_google_w2v = False\n",
        "want_to_train_w2v = True\n",
        "\n",
        "if want_to_train_w2v:\n",
        "    # min_count = 5 considers only words that occured atleast 5 times\n",
        "    w2v_model=Word2Vec(list_of_sentence_train,min_count=5,size=50, workers=4)\n",
        "    print(w2v_model.wv.most_similar('great'))\n",
        "    print('='*50)\n",
        "    print(w2v_model.wv.most_similar('worst'))\n",
        "    \n",
        "elif want_to_use_google_w2v and is_your_ram_gt_16g:\n",
        "    if os.path.isfile('GoogleNews-vectors-negative300.bin'):\n",
        "        w2v_model=KeyedVectors.load_word2vec_format('GoogleNews-vectors-negative300.bin', binary=True)\n",
        "        print(w2v_model.wv.most_similar('great'))\n",
        "        print(w2v_model.wv.most_similar('worst'))\n",
        "    else:\n",
        "        print(\"you don't have gogole's word2vec file, keep want_to_train_w2v = True, to train your own w2v \")"
      ],
      "execution_count": 40,
      "outputs": [
        {
          "output_type": "stream",
          "name": "stdout",
          "text": [
            "[('wonderful', 0.9990211725234985), ('good', 0.9988526701927185), ('tasted', 0.9987857937812805), ('sweet', 0.9987848997116089), ('tastes', 0.9987680315971375), ('adds', 0.9987635016441345), ('pepper', 0.9987601041793823), ('delicious', 0.9987429976463318), ('enjoy', 0.9987311959266663), ('makes', 0.9986861944198608)]\n",
            "==================================================\n",
            "[('son', 0.9995877742767334), ('special', 0.9995777010917664), ('please', 0.9995741248130798), ('thank', 0.9995718002319336), ('near', 0.9995698928833008), ('medium', 0.9995575547218323), ('helps', 0.9995534420013428), ('instead', 0.9995511770248413), ('e', 0.9995501637458801), ('either', 0.9995473027229309)]\n"
          ]
        }
      ]
    },
    {
      "cell_type": "code",
      "metadata": {
        "colab": {
          "base_uri": "https://localhost:8080/"
        },
        "id": "USl8niq9K_AK",
        "outputId": "47bc5093-f91d-4e0a-f432-66c48d0ad99e"
      },
      "source": [
        "w2v_words = list(w2v_model.wv.vocab)\n",
        "print(\"number of words that occured minimum 5 times \",len(w2v_words))\n",
        "print(\"sample words \", w2v_words[0:50])"
      ],
      "execution_count": 41,
      "outputs": [
        {
          "output_type": "stream",
          "name": "stdout",
          "text": [
            "number of words that occured minimum 5 times  3703\n",
            "sample words  ['really', 'love', 'cinnamon', 'able', 'eat', 'sugar', 'free', 'candy', 'tastes', 'like', 'not', 'great', 'best', 'friend', 'turned', 'cavender', 'back', 'use', 'many', 'recipes', 'would', 'lost', 'without', 'goes', 'salad', 'pasta', 'veggies', 'meats', 'soups', 'ok', 'never', 'used', 'dessert', 'recipe', 'east', 'coast', 'two', 'months', 'thing', 'made', 'sure', 'pack', 'size', 'introduced', 'people', 'seasoning', 'secret', 'ingredient', 'popular', 'making']\n"
          ]
        }
      ]
    },
    {
      "cell_type": "code",
      "metadata": {
        "id": "jd6Fi2ebK_Dg"
      },
      "source": [
        ""
      ],
      "execution_count": 41,
      "outputs": []
    },
    {
      "cell_type": "markdown",
      "metadata": {
        "id": "zfeHaXPBK_HW"
      },
      "source": [
        "### [5.5]. Converting text into vectors using wAvg W2V"
      ]
    },
    {
      "cell_type": "code",
      "metadata": {
        "id": "q94J3nUpZXv8"
      },
      "source": [
        "from tqdm import tqdm"
      ],
      "execution_count": 42,
      "outputs": []
    },
    {
      "cell_type": "code",
      "metadata": {
        "colab": {
          "base_uri": "https://localhost:8080/"
        },
        "id": "tMBiLRS9K_LJ",
        "outputId": "a8346f72-66be-4188-f576-938bf7869330"
      },
      "source": [
        "sent_vectors_train = []; # the avg-w2v for each sentence/review is stored in this list\n",
        "sent_vectors_cv = [];\n",
        "sent_vectors_test = [];\n",
        "\n",
        "for i, aset in enumerate([list_of_sentence_train, list_of_sentence_cv, list_of_sentence_test]): # for each review/sentence\n",
        "    if i==0:\n",
        "        print(\"working on training set\")\n",
        "    elif i==1:\n",
        "        print(\"working on validation set\")\n",
        "    elif i==2:\n",
        "        print(\"working on test set\")\n",
        "    for sent in aset:\n",
        "        sent_vec = np.zeros(50) # as word vectors are of zero length 50, you might need to change this to 300 if you use google's w2v\n",
        "        cnt_words =0; # num of words with a valid vector in the sentence/review\n",
        "        for word in sent: # for each word in a review/sentence\n",
        "            if word in w2v_words:\n",
        "                vec = w2v_model.wv[word]\n",
        "                sent_vec += vec\n",
        "                cnt_words += 1\n",
        "        if cnt_words != 0:\n",
        "            sent_vec /= cnt_words\n",
        "        if i==0:\n",
        "            sent_vectors_train.append(sent_vec)\n",
        "        elif i==1:\n",
        "            sent_vectors_cv.append(sent_vec)\n",
        "        elif i==2:\n",
        "            sent_vectors_test.append(sent_vec)\n",
        "\n",
        "print(\"Sentence vectors created\")\n",
        "print(len(sent_vectors_train))\n",
        "print(len(sent_vectors_train[0]))"
      ],
      "execution_count": 43,
      "outputs": [
        {
          "output_type": "stream",
          "name": "stdout",
          "text": [
            "working on training set\n",
            "working on validation set\n",
            "working on test set\n",
            "Sentence vectors created\n",
            "3350\n",
            "50\n"
          ]
        }
      ]
    },
    {
      "cell_type": "code",
      "source": [
        ""
      ],
      "metadata": {
        "id": "EP5Mvi6_jIi9"
      },
      "execution_count": 43,
      "outputs": []
    },
    {
      "cell_type": "markdown",
      "metadata": {
        "id": "iOMiT71COkuY"
      },
      "source": [
        "### [5.5]. Convert text into vectors using TFIDF-W2V"
      ]
    },
    {
      "cell_type": "code",
      "metadata": {
        "colab": {
          "base_uri": "https://localhost:8080/"
        },
        "id": "FZBP8TMwOkyI",
        "outputId": "81cf4466-628e-4bf0-ca99-a26eba46157b"
      },
      "source": [
        "model = TfidfVectorizer(min_df=10, max_features=500)\n",
        "tf_idf_matrix = model.fit_transform(x_train)\n",
        "# we are converting a dictionary with word as a key, and the idf as a value\n",
        "dictionary = dict(zip(model.get_feature_names(), list(model.idf_)))"
      ],
      "execution_count": 44,
      "outputs": [
        {
          "output_type": "stream",
          "name": "stderr",
          "text": [
            "/usr/local/lib/python3.7/dist-packages/sklearn/utils/deprecation.py:87: FutureWarning: Function get_feature_names is deprecated; get_feature_names is deprecated in 1.0 and will be removed in 1.2. Please use get_feature_names_out instead.\n",
            "  warnings.warn(msg, category=FutureWarning)\n"
          ]
        }
      ]
    },
    {
      "cell_type": "code",
      "metadata": {
        "colab": {
          "base_uri": "https://localhost:8080/"
        },
        "id": "XB0RIzWHOk1f",
        "outputId": "2967c091-11b3-481e-8cd4-000cec0cb014"
      },
      "source": [
        "tfidf_feat = model.get_feature_names() # tfidf words/col-names\n",
        "# final_tf_idf is the sparse matrix with row= sentence, col=word and cell_val = tfidf\n",
        "\n",
        "tfidf_sent_vectors_train, tfidf_sent_vectors_cv, tfidf_sent_vectors_test = [], [], []; # the tfidf-w2v for each sentence/review is stored in this list\n",
        "row=0;\n",
        "for i, aset in enumerate([list_of_sentence_train, list_of_sentence_cv, list_of_sentence_test]): # for each review/sentence \n",
        "    if i==0:\n",
        "        print(\"working on training set\")\n",
        "    elif i==1:\n",
        "        print(\"working on validation set\")\n",
        "    elif i==2:\n",
        "        print(\"working on test set\")\n",
        "    for sent in aset:\n",
        "        sent_vec = np.zeros(50) # as word vectors are of zero length\n",
        "        weight_sum =0; # num of words with a valid vector in the sentence/review\n",
        "        for word in sent: # for each word in a review/sentence\n",
        "            if word in w2v_words and word in tfidf_feat:\n",
        "                vec = w2v_model.wv[word]\n",
        "    #             tf_idf = tf_idf_matrix[row, tfidf_feat.index(word)]\n",
        "                # to reduce the computation we are \n",
        "                # dictionary[word] = idf value of word in whole courpus\n",
        "                # sent.count(word) = tf valeus of word in this review\n",
        "                tf_idf = dictionary[word]*(sent.count(word)/len(sent))\n",
        "                sent_vec += (vec * tf_idf)\n",
        "                weight_sum += tf_idf\n",
        "        if weight_sum != 0:\n",
        "            sent_vec /= weight_sum\n",
        "        if i==0:\n",
        "            tfidf_sent_vectors_train.append(sent_vec)\n",
        "        elif i==1:\n",
        "            tfidf_sent_vectors_cv.append(sent_vec)\n",
        "        elif i==2:\n",
        "            tfidf_sent_vectors_test.append(sent_vec)\n",
        "        row += 1\n",
        "\n",
        "print(\"Sentence vectors created\")"
      ],
      "execution_count": 45,
      "outputs": [
        {
          "output_type": "stream",
          "name": "stderr",
          "text": [
            "/usr/local/lib/python3.7/dist-packages/sklearn/utils/deprecation.py:87: FutureWarning: Function get_feature_names is deprecated; get_feature_names is deprecated in 1.0 and will be removed in 1.2. Please use get_feature_names_out instead.\n",
            "  warnings.warn(msg, category=FutureWarning)\n"
          ]
        },
        {
          "output_type": "stream",
          "name": "stdout",
          "text": [
            "working on training set\n",
            "working on validation set\n",
            "working on test set\n",
            "Sentence vectors created\n"
          ]
        }
      ]
    },
    {
      "cell_type": "code",
      "source": [
        ""
      ],
      "metadata": {
        "id": "mV0whXuRIs7t"
      },
      "execution_count": 24,
      "outputs": []
    },
    {
      "cell_type": "code",
      "source": [
        ""
      ],
      "metadata": {
        "id": "2xkL8kzmIssV"
      },
      "execution_count": 24,
      "outputs": []
    },
    {
      "cell_type": "markdown",
      "metadata": {
        "id": "grP7WVsuDYMp"
      },
      "source": [
        "# [6] Assignment 3: KNN"
      ]
    },
    {
      "cell_type": "markdown",
      "metadata": {
        "id": "ysQgMV4SDYMq"
      },
      "source": [
        "<ol>\n",
        "    <li><strong>Apply Knn(brute force version) on these feature sets</strong>\n",
        "        <ul>\n",
        "            <li><font color='red'>SET 1:</font>Review text, preprocessed one converted into vectors using (BOW)</li>\n",
        "            <li><font color='red'>SET 2:</font>Review text, preprocessed one converted into vectors using (TFIDF)</li>\n",
        "            <li><font color='red'>SET 3:</font>Review text, preprocessed one converted into vectors using (AVG W2v)</li>\n",
        "            <li><font color='red'>SET 4:</font>Review text, preprocessed one converted into vectors using (TFIDF W2v)</li>\n",
        "        </ul>\n",
        "    </li>\n",
        "    <br>\n",
        "    <li><strong>Apply Knn(kd tree version) on these feature sets</strong>\n",
        "        <br><font color='red'>NOTE: </font>sklearn implementation of kd-tree accepts only dense matrices, you need to convert the sparse matrices of CountVectorizer/TfidfVectorizer into dense matices. You can convert sparse matrices to dense using .toarray() attribute. For more information please visit this <a href='https://docs.scipy.org/doc/scipy-0.18.1/reference/generated/scipy.sparse.csr_matrix.toarray.html'>link</a>\n",
        "        <ul>\n",
        "            <li><font color='red'>SET 5:</font>Review text, preprocessed one converted into vectors using (BOW) but with restriction on maximum features generated.\n",
        "            <pre>\n",
        "            count_vect = CountVectorizer(min_df=10, max_features=500) \n",
        "            count_vect.fit(preprocessed_reviews)\n",
        "            </pre>\n",
        "            </li>\n",
        "            <li><font color='red'>SET 6:</font>Review text, preprocessed one converted into vectors using (TFIDF) but with restriction on maximum features generated.\n",
        "            <pre>\n",
        "                tf_idf_vect = TfidfVectorizer(min_df=10, max_features=500)\n",
        "                tf_idf_vect.fit(preprocessed_reviews)\n",
        "            </pre>\n",
        "            </li>\n",
        "            <li><font color='red'>SET 3:</font>Review text, preprocessed one converted into vectors using (AVG W2v)</li>\n",
        "            <li><font color='red'>SET 4:</font>Review text, preprocessed one converted into vectors using (TFIDF W2v)</li>\n",
        "        </ul>\n",
        "    </li>\n",
        "    <br>\n",
        "    <li><strong>The hyper paramter tuning(find best K)</strong>\n",
        "        <ul>\n",
        "    <li>Find the best hyper parameter which will give the maximum <a href='https://www.appliedaicourse.com/course/applied-ai-course-online/lessons/receiver-operating-characteristic-curve-roc-curve-and-auc-1/'>AUC</a> value</li>\n",
        "    <li>Find the best hyper paramter using k-fold cross validation or simple cross validation data</li>\n",
        "    <li>Use gridsearch cv or randomsearch cv or you can also write your own for loops to do this task of hyperparameter tuning</li>\n",
        "        </ul>\n",
        "    </li>\n",
        "    <br>\n",
        "    <li>\n",
        "    <strong>Representation of results</strong>\n",
        "        <ul>\n",
        "    <li>You need to plot the performance of model both on train data and cross validation data for each hyper parameter, like shown in the figure\n",
        "    <img src='train_cv_auc.JPG' width=300px></li>\n",
        "    <li>Once after you found the best hyper parameter, you need to train your model with it, and find the AUC on test data and plot the ROC curve on both train and test.\n",
        "    <img src='train_test_auc.JPG' width=300px></li>\n",
        "    <li>Along with plotting ROC curve, you need to print the <a href='https://www.appliedaicourse.com/course/applied-ai-course-online/lessons/confusion-matrix-tpr-fpr-fnr-tnr-1/'>confusion matrix</a> with predicted and original labels of test data points\n",
        "    <img src='confusion_matrix.png' width=300px></li>\n",
        "        </ul>\n",
        "    </li>\n",
        "    <br>\n",
        "    <li><strong>Conclusion</strong>\n",
        "        <ul>\n",
        "    <li>You need to summarize the results at the end of the notebook, summarize it in the table format. To print out a table please refer to this prettytable library<a href='http://zetcode.com/python/prettytable/'> link</a> \n",
        "        <img src='summary.JPG' width=400px>\n",
        "    </li>\n",
        "        </ul>\n",
        "</ol>"
      ]
    },
    {
      "cell_type": "markdown",
      "metadata": {
        "id": "juYtRIKQDYMr"
      },
      "source": [
        "<h4><font color='red'>Note: Data Leakage</font></h4>\n",
        "\n",
        "1. There will be an issue of data-leakage if you vectorize the entire data and then split it into train/cv/test.\n",
        "2. To avoid the issue of data-leakag, make sure to split your data first and then vectorize it. \n",
        "3. While vectorizing your data, apply the method fit_transform() on you train data, and apply the method transform() on cv/test data.\n",
        "4. For more details please go through this <a href='https://soundcloud.com/applied-ai-course/leakage-bow-and-tfidf'>link.</a>"
      ]
    },
    {
      "cell_type": "markdown",
      "metadata": {
        "id": "WEbTAOWHDYMu"
      },
      "source": [
        "## [5.1] Applying KNN brute force"
      ]
    },
    {
      "cell_type": "code",
      "source": [
        "import warnings\n",
        "warnings.filterwarnings(\"ignore\")"
      ],
      "metadata": {
        "id": "GsrtVZY-HIZO"
      },
      "execution_count": 53,
      "outputs": []
    },
    {
      "cell_type": "code",
      "source": [
        "from sklearn.neighbors import KNeighborsClassifier\n",
        "from sklearn.metrics import roc_auc_score, roc_curve, auc\n",
        "from sklearn.metrics import classification_report, accuracy_score\n",
        "from sklearn.model_selection import cross_val_score\n",
        "import seaborn as sns\n",
        "from sklearn.metrics import confusion_matrix"
      ],
      "metadata": {
        "id": "96teBqXMJ2GL"
      },
      "execution_count": 49,
      "outputs": []
    },
    {
      "cell_type": "code",
      "metadata": {
        "id": "Rw_A_9pfDYMw"
      },
      "source": [
        "def knn_classifier(x_train, y_train, x_test, y_test, algoType):\n",
        "    train_auc, test_auc = [], []\n",
        "    cv_score = []\n",
        "    conf_mat = []\n",
        "\n",
        "    kneighbors = [1, 3, 5, 7, 10, 15, 19, 25]\n",
        "    for k in kneighbors:\n",
        "        print(\"Progress: \"+str(int((k*100)/51))+\"%      \", end='\\r')\n",
        "        knn = KNeighborsClassifier(n_neighbors=k, algorithm=algoType, n_jobs=-1)\n",
        "        knn.fit(x_train, y_train)\n",
        "\n",
        "        train_auc.append(roc_auc_score(y_train, knn.predict_proba(x_train)[:, 1]))\n",
        "        test_auc.append(roc_auc_score(y_test, knn.predict_proba(x_test)[:, 1]))\n",
        "\n",
        "        scores = cross_val_score(knn, x_train, y_train, cv=5, scoring='roc_auc', n_jobs=-1)\n",
        "        cv_score.append(1-scores.mean())\n",
        "\n",
        "    print(\"Progress: 100%       \")\n",
        "\n",
        "    plt.figure(figsize=(10,8))\n",
        "    plt.plot(kneighbors, train_auc, label='Train AUC')\n",
        "    plt.plot(kneighbors, test_auc, label='CV AUC')\n",
        "    plt.legend()\n",
        "    plt.xlabel(\"K: Hyperparamter\")\n",
        "    plt.ylabel(\"AUC\")\n",
        "    plt.title(\"Model evaluation plot for KNN\")\n",
        "    plt.show()\n",
        "\n",
        "    return kneighbors[cv_score.index(min(cv_score))]\n"
      ],
      "execution_count": 50,
      "outputs": []
    },
    {
      "cell_type": "code",
      "source": [
        "def draw_confusion_matrix(actual, predicted):\n",
        "    class_label = ['negative', 'positive']\n",
        "    conf_matrix = confusion_matrix(actual, predicted)\n",
        "    df_cm = pd.DataFrame(conf_matrix, index=class_label, columns=class_label)\n",
        "    hm = sns.heatmap(df_cm, annot=True, fmt='d')\n",
        "    plt.xlabel('Predicted label')\n",
        "    plt.ylabel('Actual Label')\n",
        "    plt.show()"
      ],
      "metadata": {
        "id": "D9fa4B9LFJoV"
      },
      "execution_count": 51,
      "outputs": []
    },
    {
      "cell_type": "code",
      "source": [
        ""
      ],
      "metadata": {
        "id": "2WoxB3TMG-ke"
      },
      "execution_count": null,
      "outputs": []
    },
    {
      "cell_type": "markdown",
      "metadata": {
        "id": "ArO5fI7kDYMv"
      },
      "source": [
        "### [5.1.1] Applying KNN brute force on BOW,<font color='red'> SET 1</font>"
      ]
    },
    {
      "cell_type": "code",
      "source": [
        "optimalK_bow = knn_classifier(bow_train_counts, y_train, bow_cv_counts, y_cv, 'brute')\n",
        "print(\"Optimal K value for BOW is: \", optimalK_bow)"
      ],
      "metadata": {
        "colab": {
          "base_uri": "https://localhost:8080/",
          "height": 548
        },
        "id": "KGjeqsEgGDgH",
        "outputId": "3529026f-dadf-432a-d4ad-83d26f0b3aa1"
      },
      "execution_count": 54,
      "outputs": [
        {
          "output_type": "stream",
          "name": "stdout",
          "text": [
            "Progress: 100%       \n"
          ]
        },
        {
          "output_type": "display_data",
          "data": {
            "image/png": "[encoded data removed]",
            "text/plain": [
              "<Figure size 720x576 with 1 Axes>"
            ]
          },
          "metadata": {
            "needs_background": "light"
          }
        },
        {
          "output_type": "stream",
          "name": "stdout",
          "text": [
            "Optimal K value for BOW is:  15\n"
          ]
        }
      ]
    },
    {
      "cell_type": "code",
      "source": [
        "knn_optimal_bow = KNeighborsClassifier(n_neighbors=optimalK_bow, algorithm='brute')\n",
        "knn_optimal_bow.fit(bow_train_counts, y_train)\n",
        "\n",
        "# Prediction on training and test set using optimal\n",
        "pred_bow_train = knn_optimal_bow.predict(bow_train_counts)\n",
        "pred_bow_test = knn_optimal_bow.predict(bow_test_counts)\n",
        "print(\"Using k value in kNN - \", optimalK_bow)\n",
        "print(\"Train accuracy for optimal kNN using BOW\", round(accuracy_score(y_train, pred_bow_train)*100, 2))\n",
        "print(\"Test accuracy for optimal kNN using BOW\", round(accuracy_score(y_test, pred_bow_test) * 100, 2))\n",
        "\n",
        "# ROC-AUC on train & test data\n",
        "train_fpr, train_tpr, thresholds = roc_curve(y_train, knn_optimal_bow.predict_proba(bow_train_counts)[:, 1], pos_label=1)\n",
        "test_fpr, test_tpr, thresholds = roc_curve(y_test, knn_optimal_bow.predict_proba(bow_test_counts)[:, 1], pos_label=1)\n",
        "# Draw ROC curve\n",
        "plt.plot(train_fpr, train_tpr, label=\"Train AUC = \"+str(round(auc(train_fpr, train_tpr), 2)))\n",
        "auc_score = round(auc(test_fpr, test_tpr), 2)\n",
        "plt.plot(test_fpr, test_tpr, label=\"Test AUC = \"+str(auc_score))\n",
        "plt.legend()\n",
        "plt.xlabel(\"False Pos Rate\")\n",
        "plt.ylabel(\"True Pos Rate\")\n",
        "plt.title(\"ROC Curve of Train and Test\")\n",
        "plt.show()"
      ],
      "metadata": {
        "colab": {
          "base_uri": "https://localhost:8080/",
          "height": 347
        },
        "id": "4vnOdHFDHpyU",
        "outputId": "691ad2dd-b4f7-4400-d0c6-c9fe44eb55a0"
      },
      "execution_count": 55,
      "outputs": [
        {
          "output_type": "stream",
          "name": "stdout",
          "text": [
            "Using k value in kNN -  15\n",
            "Train accuracy for optimal kNN using BOW 84.36\n",
            "Test accuracy for optimal kNN using BOW 83.64\n"
          ]
        },
        {
          "output_type": "display_data",
          "data": {
            "image/png": "[encoded data removed]",
            "text/plain": [
              "<Figure size 432x288 with 1 Axes>"
            ]
          },
          "metadata": {
            "needs_background": "light"
          }
        }
      ]
    },
    {
      "cell_type": "code",
      "source": [
        "from prettytable import PrettyTable\n",
        "table = PrettyTable()\n",
        "table.field_names= [\"Vectorizer\", \"Model\", \"Hyperparameters\", \"AUC Score\"]"
      ],
      "metadata": {
        "id": "HwqzKnATOzh7"
      },
      "execution_count": 61,
      "outputs": []
    },
    {
      "cell_type": "code",
      "source": [
        "print(\"Training Confusion Matrix\")\n",
        "draw_confusion_matrix(y_train, pred_bow_train)\n",
        "print('\\n\\n')\n",
        "\n",
        "print(\"Test Confusion Matrix\")\n",
        "draw_confusion_matrix(y_test, pred_bow_test)\n",
        "table.add_row([\"BOW\", \"Brute\", optimalK_bow, auc_score])"
      ],
      "metadata": {
        "colab": {
          "base_uri": "https://localhost:8080/",
          "height": 628
        },
        "id": "nc4u9YMVOjzZ",
        "outputId": "74422c4b-2f3f-4038-b593-3033ea94a68b"
      },
      "execution_count": 62,
      "outputs": [
        {
          "output_type": "stream",
          "name": "stdout",
          "text": [
            "Training Confusion Matrix\n"
          ]
        },
        {
          "output_type": "display_data",
          "data": {
            "image/png": "[encoded data removed]",
            "text/plain": [
              "<Figure size 432x288 with 2 Axes>"
            ]
          },
          "metadata": {
            "needs_background": "light"
          }
        },
        {
          "output_type": "stream",
          "name": "stdout",
          "text": [
            "\n",
            "\n",
            "\n",
            "Test Confusion Matrix\n"
          ]
        },
        {
          "output_type": "display_data",
          "data": {
            "image/png": "[encoded data removed]",
            "text/plain": [
              "<Figure size 432x288 with 2 Axes>"
            ]
          },
          "metadata": {
            "needs_background": "light"
          }
        }
      ]
    },
    {
      "cell_type": "code",
      "source": [
        "print(classification_report(y_test, pred_bow_test))"
      ],
      "metadata": {
        "colab": {
          "base_uri": "https://localhost:8080/"
        },
        "id": "fs-MfWPOPXPF",
        "outputId": "3c57eb5f-5c39-482b-daec-714d9d749cf8"
      },
      "execution_count": 64,
      "outputs": [
        {
          "output_type": "stream",
          "name": "stdout",
          "text": [
            "              precision    recall  f1-score   support\n",
            "\n",
            "           0       0.61      0.21      0.31       146\n",
            "           1       0.85      0.97      0.91       679\n",
            "\n",
            "    accuracy                           0.84       825\n",
            "   macro avg       0.73      0.59      0.61       825\n",
            "weighted avg       0.81      0.84      0.80       825\n",
            "\n"
          ]
        }
      ]
    },
    {
      "cell_type": "code",
      "source": [
        ""
      ],
      "metadata": {
        "id": "bhCPi-dAG_Uj"
      },
      "execution_count": null,
      "outputs": []
    },
    {
      "cell_type": "markdown",
      "metadata": {
        "id": "m0UxvEKBDYM8"
      },
      "source": [
        "### [5.1.2] Applying KNN brute force on TFIDF,<font color='red'> SET 2</font>"
      ]
    },
    {
      "cell_type": "code",
      "metadata": {
        "id": "5ffXQxa7DYM9",
        "colab": {
          "base_uri": "https://localhost:8080/",
          "height": 548
        },
        "outputId": "8a0e3fb8-0a1b-41fd-e153-1ba25602960e"
      },
      "source": [
        "optimalK_tfIdf = knn_classifier(x_train_tf_idf, y_train, x_cv_tf_idf, y_cv, 'brute')\n",
        "print(\"Optimal K value for Tf-IDF is : \", optimalK_tfIdf)"
      ],
      "execution_count": 65,
      "outputs": [
        {
          "output_type": "stream",
          "name": "stdout",
          "text": [
            "Progress: 100%       \n"
          ]
        },
        {
          "output_type": "display_data",
          "data": {
            "image/png": "[encoded data removed]",
            "text/plain": [
              "<Figure size 720x576 with 1 Axes>"
            ]
          },
          "metadata": {
            "needs_background": "light"
          }
        },
        {
          "output_type": "stream",
          "name": "stdout",
          "text": [
            "Optimal K value for Tf-IDF is :  25\n"
          ]
        }
      ]
    },
    {
      "cell_type": "code",
      "source": [
        "knn_optimal_tf = KNeighborsClassifier(n_neighbors=optimalK_tfIdf, algorithm='brute')\n",
        "knn_optimal_tf.fit(x_train_tf_idf, y_train)\n",
        "\n",
        "# Prediction on training and test set using optimal\n",
        "pred_tfIdf_train = knn_optimal_tf.predict(x_train_tf_idf)\n",
        "pred_tfIdf_test = knn_optimal_tf.predict(x_test_tf_idf)\n",
        "print(\"Using k value in kNN - \", optimalK_tfIdf)\n",
        "print(\"Train accuracy for optimal kNN using TFIDF\", round(accuracy_score(y_train, pred_tfIdf_train)*100, 2))\n",
        "print(\"Test accuracy for optimal kNN using TFIDF\", round(accuracy_score(y_test, pred_tfIdf_test) * 100, 2))\n",
        "\n",
        "# ROC-AUC on train & test data\n",
        "train_fpr, train_tpr, thresholds = roc_curve(y_train, knn_optimal_tf.predict_proba(x_train_tf_idf)[:, 1])\n",
        "test_fpr, test_tpr, thresholds = roc_curve(y_test, knn_optimal_tf.predict_proba(x_test_tf_idf)[:, 1])\n",
        "# Draw ROC curve\n",
        "plt.plot(train_fpr, train_tpr, label=\"Train AUC =\"+str(round(auc(train_fpr, train_tpr), 2)))\n",
        "auc_score = round(auc(test_fpr, test_tpr), 2)\n",
        "plt.plot(test_fpr, test_tpr, label=\"Test AUC =\"+str(auc_score))\n",
        "plt.legend()\n",
        "plt.xlabel(\"False Pos Rate\")\n",
        "plt.ylabel(\"True Pos Rate\")\n",
        "plt.title(\"ROC Curve of Train and Test\")\n",
        "plt.show()"
      ],
      "metadata": {
        "colab": {
          "base_uri": "https://localhost:8080/",
          "height": 347
        },
        "id": "geNtKCzUGSYQ",
        "outputId": "005f565a-13ee-4248-e443-1ba425d0edfc"
      },
      "execution_count": 67,
      "outputs": [
        {
          "output_type": "stream",
          "name": "stdout",
          "text": [
            "Using k value in kNN -  25\n",
            "Train accuracy for optimal kNN using TFIDF 83.79\n",
            "Test accuracy for optimal kNN using TFIDF 83.64\n"
          ]
        },
        {
          "output_type": "display_data",
          "data": {
            "image/png": "[encoded data removed]",
            "text/plain": [
              "<Figure size 432x288 with 1 Axes>"
            ]
          },
          "metadata": {
            "needs_background": "light"
          }
        }
      ]
    },
    {
      "cell_type": "code",
      "source": [
        "print(\"Training Confusion Matrix\")\n",
        "draw_confusion_matrix(y_train, pred_tfIdf_train)\n",
        "print('\\n\\n')\n",
        "\n",
        "print(\"Test Confusion Matrix\")\n",
        "draw_confusion_matrix(y_test, pred_tfIdf_test)\n",
        "table.add_row([\"Tf-Idf\", \"Brute\", optimalK_tfIdf, auc_score])"
      ],
      "metadata": {
        "colab": {
          "base_uri": "https://localhost:8080/",
          "height": 628
        },
        "id": "g0f8DyK_GSbP",
        "outputId": "05e48a55-4203-49e0-c779-f1fe457d7b9a"
      },
      "execution_count": 68,
      "outputs": [
        {
          "output_type": "stream",
          "name": "stdout",
          "text": [
            "Training Confusion Matrix\n"
          ]
        },
        {
          "output_type": "display_data",
          "data": {
            "image/png": "[encoded data removed]",
            "text/plain": [
              "<Figure size 432x288 with 2 Axes>"
            ]
          },
          "metadata": {
            "needs_background": "light"
          }
        },
        {
          "output_type": "stream",
          "name": "stdout",
          "text": [
            "\n",
            "\n",
            "\n",
            "Test Confusion Matrix\n"
          ]
        },
        {
          "output_type": "display_data",
          "data": {
            "image/png": "[encoded data removed]",
            "text/plain": [
              "<Figure size 432x288 with 2 Axes>"
            ]
          },
          "metadata": {
            "needs_background": "light"
          }
        }
      ]
    },
    {
      "cell_type": "code",
      "source": [
        "print(classification_report(y_test, pred_tfIdf_test))"
      ],
      "metadata": {
        "colab": {
          "base_uri": "https://localhost:8080/"
        },
        "id": "m-iMxp9APn44",
        "outputId": "4aa37037-598c-464b-d510-a867d00706b9"
      },
      "execution_count": 69,
      "outputs": [
        {
          "output_type": "stream",
          "name": "stdout",
          "text": [
            "              precision    recall  f1-score   support\n",
            "\n",
            "           0       0.87      0.09      0.16       146\n",
            "           1       0.84      1.00      0.91       679\n",
            "\n",
            "    accuracy                           0.84       825\n",
            "   macro avg       0.85      0.54      0.54       825\n",
            "weighted avg       0.84      0.84      0.78       825\n",
            "\n"
          ]
        }
      ]
    },
    {
      "cell_type": "code",
      "source": [
        ""
      ],
      "metadata": {
        "id": "MSnGGiwuPn_C"
      },
      "execution_count": null,
      "outputs": []
    },
    {
      "cell_type": "markdown",
      "metadata": {
        "id": "sgcPCRG8DYNC"
      },
      "source": [
        "### [5.1.3] Applying KNN brute force on AVG W2V,<font color='red'> SET 3</font>"
      ]
    },
    {
      "cell_type": "code",
      "metadata": {
        "id": "bT4Dm8fiDYNL"
      },
      "source": [
        "# Please write all the code with proper documentation"
      ],
      "execution_count": null,
      "outputs": []
    },
    {
      "cell_type": "code",
      "source": [
        "optimalK_avgWV = knn_classifier(sent_vectors_train, y_train, sent_vectors_cv, y_cv, 'brute')\n",
        "print(\"Optimal K value for Avg W2V is : \", optimalK_avgWV)"
      ],
      "metadata": {
        "colab": {
          "base_uri": "https://localhost:8080/",
          "height": 548
        },
        "id": "YbGh2NRpPt7Q",
        "outputId": "5703e6fd-fb99-4126-ddb2-b85c4e80ceb6"
      },
      "execution_count": 71,
      "outputs": [
        {
          "output_type": "stream",
          "name": "stdout",
          "text": [
            "Progress: 100%       \n"
          ]
        },
        {
          "output_type": "display_data",
          "data": {
            "image/png": "[encoded data removed]",
            "text/plain": [
              "<Figure size 720x576 with 1 Axes>"
            ]
          },
          "metadata": {
            "needs_background": "light"
          }
        },
        {
          "output_type": "stream",
          "name": "stdout",
          "text": [
            "Optimal K value for Avg W2V is :  19\n"
          ]
        }
      ]
    },
    {
      "cell_type": "code",
      "source": [
        "knn_optimal_avw2v = KNeighborsClassifier(n_neighbors=optimalK_avgWV, algorithm='brute')\n",
        "knn_optimal_avw2v.fit(sent_vectors_train, y_train)\n",
        "\n",
        "# Prediction on training and test set using optimal\n",
        "pred_avw2v_train = knn_optimal_avw2v.predict(sent_vectors_train)\n",
        "pred_avw2v_test = knn_optimal_avw2v.predict(sent_vectors_test)\n",
        "print(\"Using k value in kNN - \", optimalK_avgWV)\n",
        "print(\"Train accuracy for optimal kNN using AvgW2V\", round(accuracy_score(y_train, pred_avw2v_train)*100, 2))\n",
        "print(\"Test accuracy for optimal kNN using AvgW2V\", round(accuracy_score(y_test, pred_avw2v_test) * 100, 2))\n",
        "\n",
        "# ROC-AUC on train & test data\n",
        "train_fpr, train_tpr, thresholds = roc_curve(y_train, knn_optimal_avw2v.predict_proba(sent_vectors_train)[:, 1])\n",
        "test_fpr, test_tpr, thresholds = roc_curve(y_test, knn_optimal_avw2v.predict_proba(sent_vectors_test)[:, 1])\n",
        "# Draw ROC curve\n",
        "plt.plot(train_fpr, train_tpr, label=\"Train AUC =\"+str(round(auc(train_fpr, train_tpr), 2)))\n",
        "auc_score = round(auc(test_fpr, test_tpr), 2)\n",
        "plt.plot(test_fpr, test_tpr, label=\"Test AUC =\"+str(auc_score))\n",
        "plt.legend()\n",
        "plt.xlabel(\"False Pos Rate\")\n",
        "plt.ylabel(\"True Pos Rate\")\n",
        "plt.title(\"ROC Curve of Train and Test\")\n",
        "plt.show()"
      ],
      "metadata": {
        "colab": {
          "base_uri": "https://localhost:8080/",
          "height": 347
        },
        "id": "WnZEMqemPt_v",
        "outputId": "821b826a-9d83-453e-e7bb-1b12001c96b1"
      },
      "execution_count": 74,
      "outputs": [
        {
          "output_type": "stream",
          "name": "stdout",
          "text": [
            "Using k value in kNN -  19\n",
            "Train accuracy for optimal kNN using AvgW2V 82.03\n",
            "Test accuracy for optimal kNN using AvgW2V 82.3\n"
          ]
        },
        {
          "output_type": "display_data",
          "data": {
            "image/png": "[encoded data removed]",
            "text/plain": [
              "<Figure size 432x288 with 1 Axes>"
            ]
          },
          "metadata": {
            "needs_background": "light"
          }
        }
      ]
    },
    {
      "cell_type": "code",
      "source": [
        "print(\"Training Confusion Matrix\")\n",
        "draw_confusion_matrix(y_train, pred_avw2v_train)\n",
        "print('\\n\\n')\n",
        "\n",
        "print(\"Test Confusion Matrix\")\n",
        "draw_confusion_matrix(y_test, pred_avw2v_test)\n",
        "table.add_row([\"Avg Word2Vec\", \"Brute\", optimalK_avgWV, auc_score])"
      ],
      "metadata": {
        "colab": {
          "base_uri": "https://localhost:8080/",
          "height": 628
        },
        "id": "0CUk3odvPuDf",
        "outputId": "7ec5b7a6-0833-4188-b252-53cf59a33bd3"
      },
      "execution_count": 75,
      "outputs": [
        {
          "output_type": "stream",
          "name": "stdout",
          "text": [
            "Training Confusion Matrix\n"
          ]
        },
        {
          "output_type": "display_data",
          "data": {
            "image/png": "[encoded data removed]",
            "text/plain": [
              "<Figure size 432x288 with 2 Axes>"
            ]
          },
          "metadata": {
            "needs_background": "light"
          }
        },
        {
          "output_type": "stream",
          "name": "stdout",
          "text": [
            "\n",
            "\n",
            "\n",
            "Test Confusion Matrix\n"
          ]
        },
        {
          "output_type": "display_data",
          "data": {
            "image/png": "[encoded data removed]",
            "text/plain": [
              "<Figure size 432x288 with 2 Axes>"
            ]
          },
          "metadata": {
            "needs_background": "light"
          }
        }
      ]
    },
    {
      "cell_type": "code",
      "source": [
        "print(classification_report(y_test, pred_avw2v_test))"
      ],
      "metadata": {
        "colab": {
          "base_uri": "https://localhost:8080/"
        },
        "id": "F2UM2_AyPuIM",
        "outputId": "b9b9e81b-2295-44b0-908f-958970631d95"
      },
      "execution_count": 76,
      "outputs": [
        {
          "output_type": "stream",
          "name": "stdout",
          "text": [
            "              precision    recall  f1-score   support\n",
            "\n",
            "           0       0.50      0.01      0.01       146\n",
            "           1       0.82      1.00      0.90       679\n",
            "\n",
            "    accuracy                           0.82       825\n",
            "   macro avg       0.66      0.50      0.46       825\n",
            "weighted avg       0.77      0.82      0.75       825\n",
            "\n"
          ]
        }
      ]
    },
    {
      "cell_type": "code",
      "source": [
        ""
      ],
      "metadata": {
        "id": "Rq5qkcR-PuNo"
      },
      "execution_count": null,
      "outputs": []
    },
    {
      "cell_type": "markdown",
      "metadata": {
        "id": "L-xcoDmADYNP"
      },
      "source": [
        "### [5.1.4] Applying KNN brute force on TFIDF W2V,<font color='red'> SET 4</font>"
      ]
    },
    {
      "cell_type": "code",
      "metadata": {
        "id": "Z9tFDe5_DYNQ"
      },
      "source": [
        "# Please write all the code with proper documentation"
      ],
      "execution_count": null,
      "outputs": []
    },
    {
      "cell_type": "code",
      "source": [
        "optimalK_tfIdfWV = knn_classifier(tfidf_sent_vectors_train, y_train, tfidf_sent_vectors_cv, y_cv, 'brute')\n",
        "print(\"Optimal K value for Tf-IDF W2V is : \", optimalK_tfIdfWV)"
      ],
      "metadata": {
        "colab": {
          "base_uri": "https://localhost:8080/",
          "height": 548
        },
        "id": "po4fdzPYP1MD",
        "outputId": "54f2494b-94b2-4b17-f49d-57feca57452e"
      },
      "execution_count": 78,
      "outputs": [
        {
          "output_type": "stream",
          "name": "stdout",
          "text": [
            "Progress: 100%       \n"
          ]
        },
        {
          "output_type": "display_data",
          "data": {
            "image/png": "[encoded data removed]",
            "text/plain": [
              "<Figure size 720x576 with 1 Axes>"
            ]
          },
          "metadata": {
            "needs_background": "light"
          }
        },
        {
          "output_type": "stream",
          "name": "stdout",
          "text": [
            "Optimal K value for Tf-IDF W2V is :  25\n"
          ]
        }
      ]
    },
    {
      "cell_type": "code",
      "source": [
        "knn_optimal_tfIdfWV = KNeighborsClassifier(n_neighbors=optimalK_tfIdfWV, algorithm='brute')\n",
        "knn_optimal_tfIdfWV.fit(tfidf_sent_vectors_train, y_train)\n",
        "\n",
        "# Prediction on training and test set using optimal\n",
        "pred_tfIdfWV_train = knn_optimal_tfIdfWV.predict(tfidf_sent_vectors_train)\n",
        "pred_tfIdfWV_test = knn_optimal_tfIdfWV.predict(tfidf_sent_vectors_test)\n",
        "print(\"Using k value in kNN - \", optimalK_tfIdfWV)\n",
        "print(\"Train accuracy for optimal kNN using TfIDF-W2V\", round(accuracy_score(y_train, pred_tfIdfWV_train)*100, 2))\n",
        "print(\"Test accuracy for optimal kNN using TfIDF-W2V\", round(accuracy_score(y_test, pred_tfIdfWV_test) * 100, 2))\n",
        "\n",
        "# ROC-AUC on train & test data\n",
        "train_fpr, train_tpr, thresholds = roc_curve(y_train, knn_optimal_tfIdfWV.predict_proba(tfidf_sent_vectors_train)[:, 1])\n",
        "test_fpr, test_tpr, thresholds = roc_curve(y_test, knn_optimal_tfIdfWV.predict_proba(tfidf_sent_vectors_test)[:, 1])\n",
        "# Draw ROC curve\n",
        "plt.plot(train_fpr, train_tpr, label=\"Train AUC =\"+str(round(auc(train_fpr, train_tpr), 2)))\n",
        "auc_score = round(auc(test_fpr, test_tpr), 2)\n",
        "plt.plot(test_fpr, test_tpr, label=\"Test AUC =\"+str(auc_score))\n",
        "plt.legend()\n",
        "plt.xlabel(\"False Pos Rate\")\n",
        "plt.ylabel(\"True Pos Rate\")\n",
        "plt.title(\"ROC Curve of Train and Test\")\n",
        "plt.show()"
      ],
      "metadata": {
        "colab": {
          "base_uri": "https://localhost:8080/",
          "height": 347
        },
        "id": "uloiP3OJP1Pp",
        "outputId": "e1880460-c849-42bc-df97-eeb46815c0ba"
      },
      "execution_count": 79,
      "outputs": [
        {
          "output_type": "stream",
          "name": "stdout",
          "text": [
            "Using k value in kNN -  25\n",
            "Train accuracy for optimal kNN using TfIDF-W2V 82.27\n",
            "Test accuracy for optimal kNN using TfIDF-W2V 82.67\n"
          ]
        },
        {
          "output_type": "display_data",
          "data": {
            "image/png": "[encoded data removed]",
            "text/plain": [
              "<Figure size 432x288 with 1 Axes>"
            ]
          },
          "metadata": {
            "needs_background": "light"
          }
        }
      ]
    },
    {
      "cell_type": "code",
      "source": [
        "print(\"Training Confusion Matrix\")\n",
        "draw_confusion_matrix(y_train, pred_tfIdfWV_train)\n",
        "print('\\n\\n')\n",
        "\n",
        "print(\"Test Confusion Matrix\")\n",
        "draw_confusion_matrix(y_test, pred_tfIdfWV_test)\n",
        "table.add_row([\"Tf-IDF Word2Vec\", \"Brute\", optimalK_tfIdfWV, auc_score])"
      ],
      "metadata": {
        "colab": {
          "base_uri": "https://localhost:8080/",
          "height": 628
        },
        "id": "DcPM6JVWP1Ta",
        "outputId": "e33254c6-ad07-41ed-f21c-063aecf29db2"
      },
      "execution_count": 80,
      "outputs": [
        {
          "output_type": "stream",
          "name": "stdout",
          "text": [
            "Training Confusion Matrix\n"
          ]
        },
        {
          "output_type": "display_data",
          "data": {
            "image/png": "[encoded data removed]",
            "text/plain": [
              "<Figure size 432x288 with 2 Axes>"
            ]
          },
          "metadata": {
            "needs_background": "light"
          }
        },
        {
          "output_type": "stream",
          "name": "stdout",
          "text": [
            "\n",
            "\n",
            "\n",
            "Test Confusion Matrix\n"
          ]
        },
        {
          "output_type": "display_data",
          "data": {
            "image/png": "[encoded data removed]",
            "text/plain": [
              "<Figure size 432x288 with 2 Axes>"
            ]
          },
          "metadata": {
            "needs_background": "light"
          }
        }
      ]
    },
    {
      "cell_type": "code",
      "source": [
        "print(classification_report(y_test, pred_tfIdfWV_test))"
      ],
      "metadata": {
        "colab": {
          "base_uri": "https://localhost:8080/"
        },
        "id": "tRiuhDaKP1XU",
        "outputId": "a7b20b90-844e-4322-a565-6176fdac033e"
      },
      "execution_count": 81,
      "outputs": [
        {
          "output_type": "stream",
          "name": "stdout",
          "text": [
            "              precision    recall  f1-score   support\n",
            "\n",
            "           0       0.80      0.03      0.05       146\n",
            "           1       0.83      1.00      0.90       679\n",
            "\n",
            "    accuracy                           0.83       825\n",
            "   macro avg       0.81      0.51      0.48       825\n",
            "weighted avg       0.82      0.83      0.75       825\n",
            "\n"
          ]
        }
      ]
    },
    {
      "cell_type": "code",
      "source": [
        ""
      ],
      "metadata": {
        "id": "M89YXPPhP1a4"
      },
      "execution_count": null,
      "outputs": []
    },
    {
      "cell_type": "markdown",
      "metadata": {
        "id": "v2x7vWX-DYNT"
      },
      "source": [
        "## [5.2] Applying KNN kd-tree"
      ]
    },
    {
      "cell_type": "markdown",
      "metadata": {
        "id": "jfY8wT02DYNU"
      },
      "source": [
        "### [5.2.1] Applying KNN kd-tree on BOW,<font color='red'> SET 5</font>"
      ]
    },
    {
      "cell_type": "code",
      "metadata": {
        "id": "kiIQYuA2DYNV"
      },
      "source": [
        "# Please write all the code with proper documentation"
      ],
      "execution_count": null,
      "outputs": []
    },
    {
      "cell_type": "markdown",
      "metadata": {
        "id": "kG-xYnK7DYNt"
      },
      "source": [
        "### [5.2.2] Applying KNN kd-tree on TFIDF,<font color='red'> SET 6</font>"
      ]
    },
    {
      "cell_type": "code",
      "metadata": {
        "id": "ffjRVz_iDYNu"
      },
      "source": [
        "# Please write all the code with proper documentation"
      ],
      "execution_count": null,
      "outputs": []
    },
    {
      "cell_type": "markdown",
      "metadata": {
        "id": "ddU0dZI0DYNx"
      },
      "source": [
        "### [5.2.3] Applying KNN kd-tree on AVG W2V,<font color='red'> SET 3</font>"
      ]
    },
    {
      "cell_type": "code",
      "metadata": {
        "id": "YAl6PXWcDYNy"
      },
      "source": [
        "# Please write all the code with proper documentation"
      ],
      "execution_count": null,
      "outputs": []
    },
    {
      "cell_type": "markdown",
      "metadata": {
        "id": "IQUILTzFDYN0"
      },
      "source": [
        "### [5.2.4] Applying KNN kd-tree on TFIDF W2V,<font color='red'> SET 4</font>"
      ]
    },
    {
      "cell_type": "code",
      "metadata": {
        "id": "vNmmBe5hDYN1"
      },
      "source": [
        "# Please write all the code with proper documentation"
      ],
      "execution_count": null,
      "outputs": []
    },
    {
      "cell_type": "markdown",
      "metadata": {
        "id": "crZ4qBCyDYN7"
      },
      "source": [
        "# [6] Conclusions"
      ]
    },
    {
      "cell_type": "code",
      "metadata": {
        "id": "9OacHxi1DYN8"
      },
      "source": [
        "# Please compare all your models using Prettytable library"
      ],
      "execution_count": null,
      "outputs": []
    }
  ]
}